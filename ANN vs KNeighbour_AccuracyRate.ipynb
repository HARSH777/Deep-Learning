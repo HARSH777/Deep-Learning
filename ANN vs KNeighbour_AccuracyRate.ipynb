{
 "cells": [
  {
   "cell_type": "code",
   "execution_count": 29,
   "metadata": {},
   "outputs": [],
   "source": [
    "import numpy as np\n",
    "import pandas as pd\n",
    "import matplotlib.pyplot as py"
   ]
  },
  {
   "cell_type": "code",
   "execution_count": 30,
   "metadata": {},
   "outputs": [],
   "source": [
    "dataset = pd.read_csv('Churn_Modelling.csv')"
   ]
  },
  {
   "cell_type": "code",
   "execution_count": 31,
   "metadata": {},
   "outputs": [
    {
     "data": {
      "text/plain": [
       "pandas.core.frame.DataFrame"
      ]
     },
     "execution_count": 31,
     "metadata": {},
     "output_type": "execute_result"
    }
   ],
   "source": [
    "type(dataset)\n"
   ]
  },
  {
   "cell_type": "code",
   "execution_count": 32,
   "metadata": {},
   "outputs": [],
   "source": [
    "X = dataset.iloc[:,3:13]"
   ]
  },
  {
   "cell_type": "code",
   "execution_count": 33,
   "metadata": {},
   "outputs": [
    {
     "data": {
      "text/html": [
       "<div>\n",
       "<style scoped>\n",
       "    .dataframe tbody tr th:only-of-type {\n",
       "        vertical-align: middle;\n",
       "    }\n",
       "\n",
       "    .dataframe tbody tr th {\n",
       "        vertical-align: top;\n",
       "    }\n",
       "\n",
       "    .dataframe thead th {\n",
       "        text-align: right;\n",
       "    }\n",
       "</style>\n",
       "<table border=\"1\" class=\"dataframe\">\n",
       "  <thead>\n",
       "    <tr style=\"text-align: right;\">\n",
       "      <th></th>\n",
       "      <th>CreditScore</th>\n",
       "      <th>Geography</th>\n",
       "      <th>Gender</th>\n",
       "      <th>Age</th>\n",
       "      <th>Tenure</th>\n",
       "      <th>Balance</th>\n",
       "      <th>NumOfProducts</th>\n",
       "      <th>HasCrCard</th>\n",
       "      <th>IsActiveMember</th>\n",
       "      <th>EstimatedSalary</th>\n",
       "    </tr>\n",
       "  </thead>\n",
       "  <tbody>\n",
       "    <tr>\n",
       "      <td>0</td>\n",
       "      <td>619</td>\n",
       "      <td>France</td>\n",
       "      <td>Female</td>\n",
       "      <td>42</td>\n",
       "      <td>2</td>\n",
       "      <td>0.00</td>\n",
       "      <td>1</td>\n",
       "      <td>1</td>\n",
       "      <td>1</td>\n",
       "      <td>101348.88</td>\n",
       "    </tr>\n",
       "    <tr>\n",
       "      <td>1</td>\n",
       "      <td>608</td>\n",
       "      <td>Spain</td>\n",
       "      <td>Female</td>\n",
       "      <td>41</td>\n",
       "      <td>1</td>\n",
       "      <td>83807.86</td>\n",
       "      <td>1</td>\n",
       "      <td>0</td>\n",
       "      <td>1</td>\n",
       "      <td>112542.58</td>\n",
       "    </tr>\n",
       "    <tr>\n",
       "      <td>2</td>\n",
       "      <td>502</td>\n",
       "      <td>France</td>\n",
       "      <td>Female</td>\n",
       "      <td>42</td>\n",
       "      <td>8</td>\n",
       "      <td>159660.80</td>\n",
       "      <td>3</td>\n",
       "      <td>1</td>\n",
       "      <td>0</td>\n",
       "      <td>113931.57</td>\n",
       "    </tr>\n",
       "    <tr>\n",
       "      <td>3</td>\n",
       "      <td>699</td>\n",
       "      <td>France</td>\n",
       "      <td>Female</td>\n",
       "      <td>39</td>\n",
       "      <td>1</td>\n",
       "      <td>0.00</td>\n",
       "      <td>2</td>\n",
       "      <td>0</td>\n",
       "      <td>0</td>\n",
       "      <td>93826.63</td>\n",
       "    </tr>\n",
       "    <tr>\n",
       "      <td>4</td>\n",
       "      <td>850</td>\n",
       "      <td>Spain</td>\n",
       "      <td>Female</td>\n",
       "      <td>43</td>\n",
       "      <td>2</td>\n",
       "      <td>125510.82</td>\n",
       "      <td>1</td>\n",
       "      <td>1</td>\n",
       "      <td>1</td>\n",
       "      <td>79084.10</td>\n",
       "    </tr>\n",
       "    <tr>\n",
       "      <td>...</td>\n",
       "      <td>...</td>\n",
       "      <td>...</td>\n",
       "      <td>...</td>\n",
       "      <td>...</td>\n",
       "      <td>...</td>\n",
       "      <td>...</td>\n",
       "      <td>...</td>\n",
       "      <td>...</td>\n",
       "      <td>...</td>\n",
       "      <td>...</td>\n",
       "    </tr>\n",
       "    <tr>\n",
       "      <td>9995</td>\n",
       "      <td>771</td>\n",
       "      <td>France</td>\n",
       "      <td>Male</td>\n",
       "      <td>39</td>\n",
       "      <td>5</td>\n",
       "      <td>0.00</td>\n",
       "      <td>2</td>\n",
       "      <td>1</td>\n",
       "      <td>0</td>\n",
       "      <td>96270.64</td>\n",
       "    </tr>\n",
       "    <tr>\n",
       "      <td>9996</td>\n",
       "      <td>516</td>\n",
       "      <td>France</td>\n",
       "      <td>Male</td>\n",
       "      <td>35</td>\n",
       "      <td>10</td>\n",
       "      <td>57369.61</td>\n",
       "      <td>1</td>\n",
       "      <td>1</td>\n",
       "      <td>1</td>\n",
       "      <td>101699.77</td>\n",
       "    </tr>\n",
       "    <tr>\n",
       "      <td>9997</td>\n",
       "      <td>709</td>\n",
       "      <td>France</td>\n",
       "      <td>Female</td>\n",
       "      <td>36</td>\n",
       "      <td>7</td>\n",
       "      <td>0.00</td>\n",
       "      <td>1</td>\n",
       "      <td>0</td>\n",
       "      <td>1</td>\n",
       "      <td>42085.58</td>\n",
       "    </tr>\n",
       "    <tr>\n",
       "      <td>9998</td>\n",
       "      <td>772</td>\n",
       "      <td>Germany</td>\n",
       "      <td>Male</td>\n",
       "      <td>42</td>\n",
       "      <td>3</td>\n",
       "      <td>75075.31</td>\n",
       "      <td>2</td>\n",
       "      <td>1</td>\n",
       "      <td>0</td>\n",
       "      <td>92888.52</td>\n",
       "    </tr>\n",
       "    <tr>\n",
       "      <td>9999</td>\n",
       "      <td>792</td>\n",
       "      <td>France</td>\n",
       "      <td>Female</td>\n",
       "      <td>28</td>\n",
       "      <td>4</td>\n",
       "      <td>130142.79</td>\n",
       "      <td>1</td>\n",
       "      <td>1</td>\n",
       "      <td>0</td>\n",
       "      <td>38190.78</td>\n",
       "    </tr>\n",
       "  </tbody>\n",
       "</table>\n",
       "<p>10000 rows × 10 columns</p>\n",
       "</div>"
      ],
      "text/plain": [
       "      CreditScore Geography  Gender  Age  Tenure    Balance  NumOfProducts  \\\n",
       "0             619    France  Female   42       2       0.00              1   \n",
       "1             608     Spain  Female   41       1   83807.86              1   \n",
       "2             502    France  Female   42       8  159660.80              3   \n",
       "3             699    France  Female   39       1       0.00              2   \n",
       "4             850     Spain  Female   43       2  125510.82              1   \n",
       "...           ...       ...     ...  ...     ...        ...            ...   \n",
       "9995          771    France    Male   39       5       0.00              2   \n",
       "9996          516    France    Male   35      10   57369.61              1   \n",
       "9997          709    France  Female   36       7       0.00              1   \n",
       "9998          772   Germany    Male   42       3   75075.31              2   \n",
       "9999          792    France  Female   28       4  130142.79              1   \n",
       "\n",
       "      HasCrCard  IsActiveMember  EstimatedSalary  \n",
       "0             1               1        101348.88  \n",
       "1             0               1        112542.58  \n",
       "2             1               0        113931.57  \n",
       "3             0               0         93826.63  \n",
       "4             1               1         79084.10  \n",
       "...         ...             ...              ...  \n",
       "9995          1               0         96270.64  \n",
       "9996          1               1        101699.77  \n",
       "9997          0               1         42085.58  \n",
       "9998          1               0         92888.52  \n",
       "9999          1               0         38190.78  \n",
       "\n",
       "[10000 rows x 10 columns]"
      ]
     },
     "execution_count": 33,
     "metadata": {},
     "output_type": "execute_result"
    }
   ],
   "source": [
    "X"
   ]
  },
  {
   "cell_type": "code",
   "execution_count": 34,
   "metadata": {},
   "outputs": [],
   "source": [
    "geo = pd.get_dummies(X['Geography'], drop_first=True)"
   ]
  },
  {
   "cell_type": "code",
   "execution_count": 35,
   "metadata": {},
   "outputs": [],
   "source": [
    "sex = pd.get_dummies(X['Gender'],drop_first=True)"
   ]
  },
  {
   "cell_type": "code",
   "execution_count": 36,
   "metadata": {},
   "outputs": [],
   "source": [
    "X=X.drop(['Geography','Gender'], axis=1)"
   ]
  },
  {
   "cell_type": "code",
   "execution_count": 37,
   "metadata": {},
   "outputs": [],
   "source": [
    "X=pd.concat([X,geo,sex], axis=1)"
   ]
  },
  {
   "cell_type": "code",
   "execution_count": 38,
   "metadata": {},
   "outputs": [],
   "source": [
    "y = dataset.iloc[:,13]"
   ]
  },
  {
   "cell_type": "code",
   "execution_count": 39,
   "metadata": {},
   "outputs": [],
   "source": [
    "from sklearn.model_selection import train_test_split"
   ]
  },
  {
   "cell_type": "code",
   "execution_count": 40,
   "metadata": {},
   "outputs": [],
   "source": [
    "X_train, X_test, y_train, y_test = train_test_split(X,y,test_size = 0.2, random_state = 0)"
   ]
  },
  {
   "cell_type": "code",
   "execution_count": 41,
   "metadata": {},
   "outputs": [],
   "source": [
    "from sklearn.preprocessing import StandardScaler"
   ]
  },
  {
   "cell_type": "code",
   "execution_count": 42,
   "metadata": {},
   "outputs": [],
   "source": [
    "sc = StandardScaler()"
   ]
  },
  {
   "cell_type": "code",
   "execution_count": 43,
   "metadata": {},
   "outputs": [],
   "source": [
    "X_train = sc.fit_transform(X_train)"
   ]
  },
  {
   "cell_type": "code",
   "execution_count": 44,
   "metadata": {},
   "outputs": [],
   "source": [
    "X_test = sc.transform(X_test)"
   ]
  },
  {
   "cell_type": "code",
   "execution_count": 45,
   "metadata": {},
   "outputs": [],
   "source": [
    "import keras"
   ]
  },
  {
   "cell_type": "code",
   "execution_count": 46,
   "metadata": {},
   "outputs": [],
   "source": [
    "from keras.models import Sequential\n",
    "from keras.layers import Dense, ReLU, LeakyReLU, Dropout"
   ]
  },
  {
   "cell_type": "code",
   "execution_count": 47,
   "metadata": {},
   "outputs": [],
   "source": [
    "sq= Sequential()"
   ]
  },
  {
   "cell_type": "code",
   "execution_count": 48,
   "metadata": {},
   "outputs": [],
   "source": [
    "sq.add(Dense(units = 3, kernel_initializer = 'he_uniform', activation='relu', input_dim =11 ))"
   ]
  },
  {
   "cell_type": "code",
   "execution_count": 49,
   "metadata": {},
   "outputs": [],
   "source": [
    "sq.add(Dense(units = 4, kernel_initializer = 'glorot_uniform', activation='sigmoid'))\n",
    "sq.add(Dense(units = 1, kernel_initializer = 'glorot_uniform', activation='sigmoid'))"
   ]
  },
  {
   "cell_type": "code",
   "execution_count": 50,
   "metadata": {},
   "outputs": [],
   "source": [
    "sq.compile(optimizer='Adamax', loss = 'binary_crossentropy', metrics= ['accuracy'])"
   ]
  },
  {
   "cell_type": "code",
   "execution_count": 51,
   "metadata": {},
   "outputs": [
    {
     "name": "stdout",
     "output_type": "stream",
     "text": [
      "Train on 5359 samples, validate on 2641 samples\n",
      "Epoch 1/100\n",
      "5359/5359 [==============================] - 1s 235us/step - loss: 0.5635 - acc: 0.7574 - val_loss: 0.5047 - val_acc: 0.7955\n",
      "Epoch 2/100\n",
      "5359/5359 [==============================] - 1s 165us/step - loss: 0.4969 - acc: 0.7962 - val_loss: 0.4922 - val_acc: 0.7955\n",
      "Epoch 3/100\n",
      "5359/5359 [==============================] - 1s 219us/step - loss: 0.4824 - acc: 0.7962 - val_loss: 0.4773 - val_acc: 0.7955\n",
      "Epoch 4/100\n",
      "5359/5359 [==============================] - 1s 170us/step - loss: 0.4653 - acc: 0.7962 - val_loss: 0.4614 - val_acc: 0.7955\n",
      "Epoch 5/100\n",
      "5359/5359 [==============================] - 1s 173us/step - loss: 0.4481 - acc: 0.7981 - val_loss: 0.4475 - val_acc: 0.7986\n",
      "Epoch 6/100\n",
      "5359/5359 [==============================] - 1s 189us/step - loss: 0.4358 - acc: 0.8059 - val_loss: 0.4404 - val_acc: 0.8050\n",
      "Epoch 7/100\n",
      "5359/5359 [==============================] - 1s 183us/step - loss: 0.4283 - acc: 0.8099 - val_loss: 0.4360 - val_acc: 0.8069\n",
      "Epoch 8/100\n",
      "5359/5359 [==============================] - 1s 270us/step - loss: 0.4234 - acc: 0.8149 - val_loss: 0.4331 - val_acc: 0.8076\n",
      "Epoch 9/100\n",
      "5359/5359 [==============================] - 2s 304us/step - loss: 0.4205 - acc: 0.8155 - val_loss: 0.4316 - val_acc: 0.8084\n",
      "Epoch 10/100\n",
      "5359/5359 [==============================] - 2s 292us/step - loss: 0.4182 - acc: 0.8160 - val_loss: 0.4303 - val_acc: 0.8092\n",
      "Epoch 11/100\n",
      "5359/5359 [==============================] - 1s 185us/step - loss: 0.4164 - acc: 0.8197 - val_loss: 0.4292 - val_acc: 0.8088\n",
      "Epoch 12/100\n",
      "5359/5359 [==============================] - 1s 177us/step - loss: 0.4149 - acc: 0.8207 - val_loss: 0.4282 - val_acc: 0.8103\n",
      "Epoch 13/100\n",
      "5359/5359 [==============================] - 1s 177us/step - loss: 0.4134 - acc: 0.8216 - val_loss: 0.4271 - val_acc: 0.8122\n",
      "Epoch 14/100\n",
      "5359/5359 [==============================] - 1s 181us/step - loss: 0.4119 - acc: 0.8225 - val_loss: 0.4261 - val_acc: 0.8111\n",
      "Epoch 15/100\n",
      "5359/5359 [==============================] - 1s 201us/step - loss: 0.4105 - acc: 0.8248 - val_loss: 0.4246 - val_acc: 0.8141\n",
      "Epoch 16/100\n",
      "5359/5359 [==============================] - 1s 168us/step - loss: 0.4090 - acc: 0.8263 - val_loss: 0.4233 - val_acc: 0.8126\n",
      "Epoch 17/100\n",
      "5359/5359 [==============================] - 1s 206us/step - loss: 0.4074 - acc: 0.8274 - val_loss: 0.4221 - val_acc: 0.8099\n",
      "Epoch 18/100\n",
      "5359/5359 [==============================] - 1s 202us/step - loss: 0.4056 - acc: 0.8283 - val_loss: 0.4203 - val_acc: 0.8137\n",
      "Epoch 19/100\n",
      "5359/5359 [==============================] - 1s 170us/step - loss: 0.4035 - acc: 0.8304 - val_loss: 0.4182 - val_acc: 0.8164\n",
      "Epoch 20/100\n",
      "5359/5359 [==============================] - 1s 169us/step - loss: 0.4015 - acc: 0.8330 - val_loss: 0.4160 - val_acc: 0.8171\n",
      "Epoch 21/100\n",
      "5359/5359 [==============================] - 1s 173us/step - loss: 0.3993 - acc: 0.8345 - val_loss: 0.4139 - val_acc: 0.8186\n",
      "Epoch 22/100\n",
      "5359/5359 [==============================] - 1s 175us/step - loss: 0.3971 - acc: 0.8360 - val_loss: 0.4115 - val_acc: 0.8179\n",
      "Epoch 23/100\n",
      "5359/5359 [==============================] - 1s 181us/step - loss: 0.3944 - acc: 0.8377 - val_loss: 0.4093 - val_acc: 0.8175\n",
      "Epoch 24/100\n",
      "5359/5359 [==============================] - 1s 182us/step - loss: 0.3917 - acc: 0.8401 - val_loss: 0.4056 - val_acc: 0.8220\n",
      "Epoch 25/100\n",
      "5359/5359 [==============================] - 1s 179us/step - loss: 0.3885 - acc: 0.8421 - val_loss: 0.4020 - val_acc: 0.8217\n",
      "Epoch 26/100\n",
      "5359/5359 [==============================] - 1s 177us/step - loss: 0.3851 - acc: 0.8440 - val_loss: 0.3983 - val_acc: 0.8247\n",
      "Epoch 27/100\n",
      "5359/5359 [==============================] - 1s 179us/step - loss: 0.3815 - acc: 0.8475 - val_loss: 0.3947 - val_acc: 0.8270\n",
      "Epoch 28/100\n",
      "5359/5359 [==============================] - 1s 174us/step - loss: 0.3781 - acc: 0.8503 - val_loss: 0.3912 - val_acc: 0.8319\n",
      "Epoch 29/100\n",
      "5359/5359 [==============================] - 1s 175us/step - loss: 0.3749 - acc: 0.8502 - val_loss: 0.3877 - val_acc: 0.8376\n",
      "Epoch 30/100\n",
      "5359/5359 [==============================] - 1s 179us/step - loss: 0.3720 - acc: 0.8515 - val_loss: 0.3844 - val_acc: 0.8421\n",
      "Epoch 31/100\n",
      "5359/5359 [==============================] - 1s 175us/step - loss: 0.3689 - acc: 0.8548 - val_loss: 0.3811 - val_acc: 0.8425\n",
      "Epoch 32/100\n",
      "5359/5359 [==============================] - 1s 202us/step - loss: 0.3660 - acc: 0.8554 - val_loss: 0.3783 - val_acc: 0.8440\n",
      "Epoch 33/100\n",
      "5359/5359 [==============================] - 2s 338us/step - loss: 0.3634 - acc: 0.8565 - val_loss: 0.3757 - val_acc: 0.8466\n",
      "Epoch 34/100\n",
      "5359/5359 [==============================] - 1s 264us/step - loss: 0.3608 - acc: 0.8578 - val_loss: 0.3734 - val_acc: 0.8451\n",
      "Epoch 35/100\n",
      "5359/5359 [==============================] - 2s 317us/step - loss: 0.3584 - acc: 0.8567 - val_loss: 0.3720 - val_acc: 0.8470\n",
      "Epoch 36/100\n",
      "5359/5359 [==============================] - 2s 325us/step - loss: 0.3567 - acc: 0.8571 - val_loss: 0.3695 - val_acc: 0.8459\n",
      "Epoch 37/100\n",
      "5359/5359 [==============================] - 2s 324us/step - loss: 0.3549 - acc: 0.8586 - val_loss: 0.3683 - val_acc: 0.8482\n",
      "Epoch 38/100\n",
      "5359/5359 [==============================] - 1s 229us/step - loss: 0.3533 - acc: 0.8591 - val_loss: 0.3666 - val_acc: 0.8497\n",
      "Epoch 39/100\n",
      "5359/5359 [==============================] - 1s 153us/step - loss: 0.3521 - acc: 0.8597 - val_loss: 0.3656 - val_acc: 0.8489\n",
      "Epoch 40/100\n",
      "5359/5359 [==============================] - 1s 165us/step - loss: 0.3509 - acc: 0.8600 - val_loss: 0.3645 - val_acc: 0.8493\n",
      "Epoch 41/100\n",
      "5359/5359 [==============================] - 1s 199us/step - loss: 0.3499 - acc: 0.8599 - val_loss: 0.3637 - val_acc: 0.8501\n",
      "Epoch 42/100\n",
      "5359/5359 [==============================] - 1s 184us/step - loss: 0.3488 - acc: 0.8608 - val_loss: 0.3632 - val_acc: 0.8501\n",
      "Epoch 43/100\n",
      "5359/5359 [==============================] - 1s 195us/step - loss: 0.3480 - acc: 0.8604 - val_loss: 0.3622 - val_acc: 0.8512\n",
      "Epoch 44/100\n",
      "5359/5359 [==============================] - 1s 154us/step - loss: 0.3472 - acc: 0.8621 - val_loss: 0.3616 - val_acc: 0.8531\n",
      "Epoch 45/100\n",
      "5359/5359 [==============================] - 1s 173us/step - loss: 0.3464 - acc: 0.8617 - val_loss: 0.3610 - val_acc: 0.8527\n",
      "Epoch 46/100\n",
      "5359/5359 [==============================] - 1s 207us/step - loss: 0.3457 - acc: 0.8621 - val_loss: 0.3610 - val_acc: 0.8520\n",
      "Epoch 47/100\n",
      "5359/5359 [==============================] - 1s 236us/step - loss: 0.3452 - acc: 0.8606 - val_loss: 0.3601 - val_acc: 0.8527\n",
      "Epoch 48/100\n",
      "5359/5359 [==============================] - 1s 167us/step - loss: 0.3447 - acc: 0.8614 - val_loss: 0.3599 - val_acc: 0.8527\n",
      "Epoch 49/100\n",
      "5359/5359 [==============================] - 1s 154us/step - loss: 0.3439 - acc: 0.8612 - val_loss: 0.3605 - val_acc: 0.8527\n",
      "Epoch 50/100\n",
      "5359/5359 [==============================] - 1s 189us/step - loss: 0.3439 - acc: 0.8602 - val_loss: 0.3595 - val_acc: 0.8554\n",
      "Epoch 51/100\n",
      "5359/5359 [==============================] - 1s 186us/step - loss: 0.3433 - acc: 0.8606 - val_loss: 0.3592 - val_acc: 0.8557\n",
      "Epoch 52/100\n",
      "5359/5359 [==============================] - 1s 210us/step - loss: 0.3431 - acc: 0.8608 - val_loss: 0.3584 - val_acc: 0.8565\n",
      "Epoch 53/100\n",
      "5359/5359 [==============================] - 1s 212us/step - loss: 0.3426 - acc: 0.8621 - val_loss: 0.3580 - val_acc: 0.8569\n",
      "Epoch 54/100\n",
      "5359/5359 [==============================] - 1s 189us/step - loss: 0.3424 - acc: 0.8619 - val_loss: 0.3586 - val_acc: 0.8550\n",
      "Epoch 55/100\n",
      "5359/5359 [==============================] - 1s 168us/step - loss: 0.3420 - acc: 0.8627 - val_loss: 0.3579 - val_acc: 0.8561\n",
      "Epoch 56/100\n",
      "5359/5359 [==============================] - 1s 180us/step - loss: 0.3419 - acc: 0.8612 - val_loss: 0.3579 - val_acc: 0.8550\n",
      "Epoch 57/100\n",
      "5359/5359 [==============================] - 1s 158us/step - loss: 0.3416 - acc: 0.8612 - val_loss: 0.3574 - val_acc: 0.8573\n",
      "Epoch 58/100\n",
      "5359/5359 [==============================] - 1s 159us/step - loss: 0.3412 - acc: 0.8625 - val_loss: 0.3572 - val_acc: 0.8569\n",
      "Epoch 59/100\n",
      "5359/5359 [==============================] - 1s 195us/step - loss: 0.3411 - acc: 0.8615 - val_loss: 0.3572 - val_acc: 0.8554\n",
      "Epoch 60/100\n"
     ]
    },
    {
     "name": "stdout",
     "output_type": "stream",
     "text": [
      "5359/5359 [==============================] - 1s 180us/step - loss: 0.3407 - acc: 0.8623 - val_loss: 0.3570 - val_acc: 0.8576\n",
      "Epoch 61/100\n",
      "5359/5359 [==============================] - 1s 156us/step - loss: 0.3406 - acc: 0.8634 - val_loss: 0.3572 - val_acc: 0.8569\n",
      "Epoch 62/100\n",
      "5359/5359 [==============================] - 2s 296us/step - loss: 0.3402 - acc: 0.8623 - val_loss: 0.3575 - val_acc: 0.8557\n",
      "Epoch 63/100\n",
      "5359/5359 [==============================] - 2s 342us/step - loss: 0.3399 - acc: 0.8597 - val_loss: 0.3563 - val_acc: 0.8580\n",
      "Epoch 64/100\n",
      "5359/5359 [==============================] - 2s 299us/step - loss: 0.3399 - acc: 0.8619 - val_loss: 0.3563 - val_acc: 0.8569\n",
      "Epoch 65/100\n",
      "5359/5359 [==============================] - 2s 292us/step - loss: 0.3395 - acc: 0.8614 - val_loss: 0.3562 - val_acc: 0.8576\n",
      "Epoch 66/100\n",
      "5359/5359 [==============================] - 1s 198us/step - loss: 0.3395 - acc: 0.8623 - val_loss: 0.3560 - val_acc: 0.8569\n",
      "Epoch 67/100\n",
      "5359/5359 [==============================] - 1s 170us/step - loss: 0.3390 - acc: 0.8628 - val_loss: 0.3556 - val_acc: 0.8588\n",
      "Epoch 68/100\n",
      "5359/5359 [==============================] - 1s 177us/step - loss: 0.3391 - acc: 0.8604 - val_loss: 0.3564 - val_acc: 0.8580\n",
      "Epoch 69/100\n",
      "5359/5359 [==============================] - 1s 170us/step - loss: 0.3388 - acc: 0.8608 - val_loss: 0.3558 - val_acc: 0.8591\n",
      "Epoch 70/100\n",
      "5359/5359 [==============================] - 1s 166us/step - loss: 0.3388 - acc: 0.8610 - val_loss: 0.3560 - val_acc: 0.8591\n",
      "Epoch 71/100\n",
      "5359/5359 [==============================] - 1s 171us/step - loss: 0.3386 - acc: 0.8627 - val_loss: 0.3558 - val_acc: 0.8576\n",
      "Epoch 72/100\n",
      "5359/5359 [==============================] - 1s 185us/step - loss: 0.3385 - acc: 0.8615 - val_loss: 0.3555 - val_acc: 0.8588\n",
      "Epoch 73/100\n",
      "5359/5359 [==============================] - 1s 166us/step - loss: 0.3383 - acc: 0.8615 - val_loss: 0.3553 - val_acc: 0.8573\n",
      "Epoch 74/100\n",
      "5359/5359 [==============================] - 1s 181us/step - loss: 0.3382 - acc: 0.8608 - val_loss: 0.3551 - val_acc: 0.8576\n",
      "Epoch 75/100\n",
      "5359/5359 [==============================] - 1s 239us/step - loss: 0.3381 - acc: 0.8617 - val_loss: 0.3553 - val_acc: 0.8573\n",
      "Epoch 76/100\n",
      "5359/5359 [==============================] - 1s 255us/step - loss: 0.3378 - acc: 0.8615 - val_loss: 0.3549 - val_acc: 0.8573\n",
      "Epoch 77/100\n",
      "5359/5359 [==============================] - 1s 214us/step - loss: 0.3378 - acc: 0.8614 - val_loss: 0.3549 - val_acc: 0.8565\n",
      "Epoch 78/100\n",
      "5359/5359 [==============================] - 1s 158us/step - loss: 0.3377 - acc: 0.8610 - val_loss: 0.3547 - val_acc: 0.8584\n",
      "Epoch 79/100\n",
      "5359/5359 [==============================] - 1s 158us/step - loss: 0.3375 - acc: 0.8640 - val_loss: 0.3548 - val_acc: 0.8591\n",
      "Epoch 80/100\n",
      "5359/5359 [==============================] - 1s 172us/step - loss: 0.3376 - acc: 0.8625 - val_loss: 0.3552 - val_acc: 0.8588\n",
      "Epoch 81/100\n",
      "5359/5359 [==============================] - 1s 170us/step - loss: 0.3374 - acc: 0.8625 - val_loss: 0.3548 - val_acc: 0.8584\n",
      "Epoch 82/100\n",
      "5359/5359 [==============================] - 1s 158us/step - loss: 0.3372 - acc: 0.8628 - val_loss: 0.3544 - val_acc: 0.8588\n",
      "Epoch 83/100\n",
      "5359/5359 [==============================] - 1s 160us/step - loss: 0.3373 - acc: 0.8621 - val_loss: 0.3547 - val_acc: 0.8584\n",
      "Epoch 84/100\n",
      "5359/5359 [==============================] - 1s 162us/step - loss: 0.3370 - acc: 0.8614 - val_loss: 0.3554 - val_acc: 0.8573\n",
      "Epoch 85/100\n",
      "5359/5359 [==============================] - 1s 171us/step - loss: 0.3371 - acc: 0.8614 - val_loss: 0.3549 - val_acc: 0.8573\n",
      "Epoch 86/100\n",
      "5359/5359 [==============================] - 1s 168us/step - loss: 0.3370 - acc: 0.8628 - val_loss: 0.3546 - val_acc: 0.8584\n",
      "Epoch 87/100\n",
      "5359/5359 [==============================] - 1s 167us/step - loss: 0.3369 - acc: 0.8627 - val_loss: 0.3544 - val_acc: 0.8584\n",
      "Epoch 88/100\n",
      "5359/5359 [==============================] - 1s 167us/step - loss: 0.3367 - acc: 0.8625 - val_loss: 0.3547 - val_acc: 0.8584\n",
      "Epoch 89/100\n",
      "5359/5359 [==============================] - 1s 165us/step - loss: 0.3367 - acc: 0.8621 - val_loss: 0.3547 - val_acc: 0.8584\n",
      "Epoch 90/100\n",
      "5359/5359 [==============================] - 1s 173us/step - loss: 0.3367 - acc: 0.8619 - val_loss: 0.3548 - val_acc: 0.8573\n",
      "Epoch 91/100\n",
      "5359/5359 [==============================] - 1s 172us/step - loss: 0.3366 - acc: 0.8625 - val_loss: 0.3545 - val_acc: 0.8576\n",
      "Epoch 92/100\n",
      "5359/5359 [==============================] - 1s 165us/step - loss: 0.3365 - acc: 0.8627 - val_loss: 0.3547 - val_acc: 0.8588\n",
      "Epoch 93/100\n",
      "5359/5359 [==============================] - 1s 165us/step - loss: 0.3364 - acc: 0.8619 - val_loss: 0.3542 - val_acc: 0.8584\n",
      "Epoch 94/100\n",
      "5359/5359 [==============================] - 1s 217us/step - loss: 0.3363 - acc: 0.8615 - val_loss: 0.3548 - val_acc: 0.8580\n",
      "Epoch 95/100\n",
      "5359/5359 [==============================] - 1s 168us/step - loss: 0.3363 - acc: 0.8615 - val_loss: 0.3540 - val_acc: 0.8584\n",
      "Epoch 96/100\n",
      "5359/5359 [==============================] - 1s 166us/step - loss: 0.3362 - acc: 0.8612 - val_loss: 0.3545 - val_acc: 0.8591\n",
      "Epoch 97/100\n",
      "5359/5359 [==============================] - 1s 185us/step - loss: 0.3362 - acc: 0.8617 - val_loss: 0.3541 - val_acc: 0.8588\n",
      "Epoch 98/100\n",
      "5359/5359 [==============================] - 1s 175us/step - loss: 0.3362 - acc: 0.8630 - val_loss: 0.3541 - val_acc: 0.8591\n",
      "Epoch 99/100\n",
      "5359/5359 [==============================] - 1s 173us/step - loss: 0.3362 - acc: 0.8623 - val_loss: 0.3543 - val_acc: 0.8580\n",
      "Epoch 100/100\n",
      "5359/5359 [==============================] - 1s 170us/step - loss: 0.3360 - acc: 0.8612 - val_loss: 0.3538 - val_acc: 0.8573\n"
     ]
    }
   ],
   "source": [
    "model_history = sq.fit(X_train,y_train, batch_size=10, validation_split=0.33, epochs=100)"
   ]
  },
  {
   "cell_type": "code",
   "execution_count": 52,
   "metadata": {},
   "outputs": [],
   "source": [
    "y_pred = sq.predict(X_test)"
   ]
  },
  {
   "cell_type": "code",
   "execution_count": 53,
   "metadata": {},
   "outputs": [
    {
     "data": {
      "text/plain": [
       "9394    0\n",
       "898     1\n",
       "2398    0\n",
       "5906    0\n",
       "2343    0\n",
       "       ..\n",
       "1037    0\n",
       "2899    0\n",
       "9549    0\n",
       "2740    0\n",
       "6690    0\n",
       "Name: Exited, Length: 2000, dtype: int64"
      ]
     },
     "execution_count": 53,
     "metadata": {},
     "output_type": "execute_result"
    }
   ],
   "source": [
    "y_test"
   ]
  },
  {
   "cell_type": "code",
   "execution_count": 54,
   "metadata": {},
   "outputs": [
    {
     "data": {
      "text/plain": [
       "array([[0.28589937],\n",
       "       [0.3315558 ],\n",
       "       [0.20947075],\n",
       "       ...,\n",
       "       [0.13371807],\n",
       "       [0.12344772],\n",
       "       [0.19474742]], dtype=float32)"
      ]
     },
     "execution_count": 54,
     "metadata": {},
     "output_type": "execute_result"
    }
   ],
   "source": [
    "y_pred"
   ]
  },
  {
   "cell_type": "code",
   "execution_count": 55,
   "metadata": {},
   "outputs": [],
   "source": [
    "y_pred = (y_pred>0.5)"
   ]
  },
  {
   "cell_type": "code",
   "execution_count": 56,
   "metadata": {},
   "outputs": [],
   "source": [
    "from sklearn.metrics import confusion_matrix, classification_report, accuracy_score"
   ]
  },
  {
   "cell_type": "code",
   "execution_count": 57,
   "metadata": {},
   "outputs": [
    {
     "data": {
      "text/plain": [
       "0.8625"
      ]
     },
     "execution_count": 57,
     "metadata": {},
     "output_type": "execute_result"
    }
   ],
   "source": [
    "accuracy_score(y_test, y_pred)"
   ]
  },
  {
   "cell_type": "code",
   "execution_count": 64,
   "metadata": {},
   "outputs": [],
   "source": [
    "from sklearn.neighbors import KNeighborsClassifier"
   ]
  },
  {
   "cell_type": "code",
   "execution_count": 65,
   "metadata": {},
   "outputs": [],
   "source": [
    "error_rate=[]"
   ]
  },
  {
   "cell_type": "code",
   "execution_count": 66,
   "metadata": {},
   "outputs": [],
   "source": [
    "for i in range(1,40):\n",
    "    kn = KNeighborsClassifier(n_neighbors=i)\n",
    "    kn.fit(X_train, y_train)\n",
    "    y_pred = kn.predict(X_test)\n",
    "    error_rate.append(np.mean(y_pred!=y_test))"
   ]
  },
  {
   "cell_type": "code",
   "execution_count": 67,
   "metadata": {},
   "outputs": [
    {
     "data": {
      "text/plain": [
       "<Figure size 1080x1080 with 0 Axes>"
      ]
     },
     "execution_count": 67,
     "metadata": {},
     "output_type": "execute_result"
    },
    {
     "data": {
      "text/plain": [
       "<Figure size 1080x1080 with 0 Axes>"
      ]
     },
     "metadata": {},
     "output_type": "display_data"
    }
   ],
   "source": [
    "py.figure(figsize=[15.0,15.0])"
   ]
  },
  {
   "cell_type": "code",
   "execution_count": 68,
   "metadata": {},
   "outputs": [
    {
     "data": {
      "text/plain": [
       "[<matplotlib.lines.Line2D at 0x7f8370416d50>]"
      ]
     },
     "execution_count": 68,
     "metadata": {},
     "output_type": "execute_result"
    },
    {
     "data": {
      "image/png": "[encoded data removed]",
      "text/plain": [
       "<Figure size 432x288 with 1 Axes>"
      ]
     },
     "metadata": {
      "needs_background": "light"
     },
     "output_type": "display_data"
    }
   ],
   "source": [
    "py.plot(range(1,40), error_rate)\n"
   ]
  },
  {
   "cell_type": "code",
   "execution_count": 69,
   "metadata": {},
   "outputs": [],
   "source": [
    "kn = KNeighborsClassifier(n_neighbors=16)"
   ]
  },
  {
   "cell_type": "code",
   "execution_count": 70,
   "metadata": {},
   "outputs": [
    {
     "data": {
      "text/plain": [
       "KNeighborsClassifier(algorithm='auto', leaf_size=30, metric='minkowski',\n",
       "                     metric_params=None, n_jobs=None, n_neighbors=16, p=2,\n",
       "                     weights='uniform')"
      ]
     },
     "execution_count": 70,
     "metadata": {},
     "output_type": "execute_result"
    }
   ],
   "source": [
    "kn.fit(X_train, y_train)"
   ]
  },
  {
   "cell_type": "code",
   "execution_count": 71,
   "metadata": {},
   "outputs": [],
   "source": [
    "y_pred =  kn.predict(X_test)"
   ]
  },
  {
   "cell_type": "code",
   "execution_count": 72,
   "metadata": {},
   "outputs": [
    {
     "data": {
      "text/plain": [
       "0.847"
      ]
     },
     "execution_count": 72,
     "metadata": {},
     "output_type": "execute_result"
    }
   ],
   "source": [
    "accuracy_score(y_test, y_pred)"
   ]
  },
  {
   "cell_type": "code",
   "execution_count": null,
   "metadata": {},
   "outputs": [],
   "source": []
  }
 ],
 "metadata": {
  "kernelspec": {
   "display_name": "Python 3",
   "language": "python",
   "name": "python3"
  },
  "language_info": {
   "codemirror_mode": {
    "name": "ipython",
    "version": 3
   },
   "file_extension": ".py",
   "mimetype": "text/x-python",
   "name": "python",
   "nbconvert_exporter": "python",
   "pygments_lexer": "ipython3",
   "version": "3.7.4"
  }
 },
 "nbformat": 4,
 "nbformat_minor": 2
}
